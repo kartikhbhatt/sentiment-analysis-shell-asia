{
 "cells": [
  {
   "cell_type": "code",
   "execution_count": 9,
   "id": "b64b9787",
   "metadata": {},
   "outputs": [
    {
     "name": "stdout",
     "output_type": "stream",
     "text": [
      "Extracted 'fields' data has been saved to 'extracted_fields_data.json'.\n"
     ]
    }
   ],
   "source": [
    "import json\n",
    "\n",
    "# Load the JSON content from the file\n",
    "with open(\"KB.txt\", \"r\", encoding=\"utf-8\") as file:\n",
    "    data = json.load(file)\n",
    "\n",
    "# Extract the 'fields' object from each item in the 'content' array\n",
    "fields_data = [item.get(\"fields\", {}) for item in data.get(\"content\", [])]\n",
    "\n",
    "# Save the extracted fields data into a new JSON file\n",
    "with open(\"extracted_fields_data.json\", \"w\", encoding=\"utf-8\") as outfile:\n",
    "    json.dump(fields_data, outfile, indent=4)\n",
    "\n",
    "print(\"Extracted 'fields' data has been saved to 'extracted_fields_data.json'.\")\n"
   ]
  },
  {
   "cell_type": "code",
   "execution_count": 14,
   "id": "d5ca8f4b",
   "metadata": {},
   "outputs": [
    {
     "name": "stdout",
     "output_type": "stream",
     "text": [
      "Key-content pairs have been saved to 'fields_key_content_pairs.json'.\n"
     ]
    }
   ],
   "source": [
    "import json\n",
    "\n",
    "# Load the JSON content from the file\n",
    "with open(\"cleaned_output.txt\", \"r\", encoding=\"utf-8\") as file:\n",
    "    data = json.load(file)\n",
    "\n",
    "# Extract key and 'content' value from each 'fields' object\n",
    "extracted_content = []\n",
    "for item in data.get(\"content\", []):\n",
    "    fields = item.get(\"fields\", {})\n",
    "    content_entry = {}\n",
    "    for key, value in fields.items():\n",
    "        if isinstance(value, dict) and \"content\" in value:\n",
    "            content_entry[key] = value[\"content\"]\n",
    "    if content_entry:\n",
    "        extracted_content.append(content_entry)\n",
    "\n",
    "# Save the extracted key-content pairs into a new JSON file\n",
    "with open(\"fields_key_content_pairs.json\", \"w\", encoding=\"utf-8\") as outfile:\n",
    "    json.dump(extracted_content, outfile, indent=4)\n",
    "\n",
    "print(\"Key-content pairs have been saved to 'fields_key_content_pairs.json'.\")\n"
   ]
  },
  {
   "cell_type": "code",
   "execution_count": 11,
   "id": "68627a38",
   "metadata": {},
   "outputs": [
    {
     "name": "stdout",
     "output_type": "stream",
     "text": [
      "Cleaned key-content pairs have been saved to 'cleaned_fields_key_content_pairs.json'.\n"
     ]
    }
   ],
   "source": [
    "import json\n",
    "\n",
    "# Load the JSON content from the file\n",
    "with open(\"KB.txt\", \"r\", encoding=\"utf-8\") as file:\n",
    "    data = json.load(file)\n",
    "\n",
    "# Extract key and cleaned 'content' value from each 'fields' object\n",
    "extracted_cleaned_content = []\n",
    "for item in data.get(\"content\", []):\n",
    "    fields = item.get(\"fields\", {})\n",
    "    content_entry = {}\n",
    "    for key, value in fields.items():\n",
    "        if isinstance(value, dict) and \"content\" in value:\n",
    "            # Clean escape sequences from the content string\n",
    "            cleaned_content = value[\"content\"].encode('utf-8').decode('unicode_escape')\n",
    "            content_entry[key] = cleaned_content\n",
    "    if content_entry:\n",
    "        extracted_cleaned_content.append(content_entry)\n",
    "\n",
    "# Save the cleaned key-content pairs into a new JSON file\n",
    "with open(\"cleaned_fields_key_content_pairs.json\", \"w\", encoding=\"utf-8\") as outfile:\n",
    "    json.dump(extracted_cleaned_content, outfile, indent=4)\n",
    "\n",
    "print(\"Cleaned key-content pairs have been saved to 'cleaned_fields_key_content_pairs.json'.\")\n"
   ]
  },
  {
   "cell_type": "code",
   "execution_count": 12,
   "id": "d5d6d75c",
   "metadata": {},
   "outputs": [
    {
     "name": "stdout",
     "output_type": "stream",
     "text": [
      "Cleaned key-content pairs have been saved to 'cleaned_fields_key_content_pairs.json'.\n"
     ]
    }
   ],
   "source": [
    "import json\n",
    "\n",
    "# Load the JSON content from the file\n",
    "with open(\"KB.txt\", \"r\", encoding=\"utf-8\") as file:\n",
    "    data = json.load(file)\n",
    "\n",
    "# Extract key and cleaned 'content' value from each 'fields' object\n",
    "extracted_cleaned_content = []\n",
    "for item in data.get(\"content\", []):\n",
    "    fields = item.get(\"fields\", {})\n",
    "    content_entry = {}\n",
    "    for key, value in fields.items():\n",
    "        if isinstance(value, dict) and \"content\" in value:\n",
    "            # Clean escape sequences from the content string\n",
    "            cleaned_content = value[\"content\"].encode('utf-8').decode('unicode_escape')\n",
    "            content_entry[key] = cleaned_content\n",
    "    if content_entry:\n",
    "        extracted_cleaned_content.append(content_entry)\n",
    "\n",
    "# Save the cleaned key-content pairs into a new JSON file\n",
    "with open(\"cleaned_fields_key_content_pairs.json\", \"w\", encoding=\"utf-8\") as outfile:\n",
    "    json.dump(extracted_cleaned_content, outfile, indent=4)\n",
    "\n",
    "print(\"Cleaned key-content pairs have been saved to 'cleaned_fields_key_content_pairs.json'.\")\n"
   ]
  },
  {
   "cell_type": "code",
   "execution_count": 13,
   "id": "715ed7ce",
   "metadata": {},
   "outputs": [
    {
     "name": "stdout",
     "output_type": "stream",
     "text": [
      "Escape sequences have been removed and the cleaned text is saved to 'cleaned_output.txt'.\n"
     ]
    }
   ],
   "source": [
    "import re\n",
    "\n",
    "# Function to remove escape sequences from text\n",
    "def remove_escape_sequences(text):\n",
    "    # Replace common escape sequences with a space\n",
    "    cleaned_text = re.sub(r'\\\\[ntrbfa\\\\\\'\"]', ' ', text)\n",
    "    return cleaned_text\n",
    "\n",
    "# Read the original file\n",
    "with open('KB.txt', 'r', encoding='utf-8') as infile:\n",
    "    content = infile.read()\n",
    "\n",
    "# Remove escape sequences\n",
    "cleaned_content = remove_escape_sequences(content)\n",
    "\n",
    "# Write the cleaned content to a new file\n",
    "with open('cleaned_output.txt', 'w', encoding='utf-8') as outfile:\n",
    "    outfile.write(cleaned_content)\n",
    "\n",
    "print(\"Escape sequences have been removed and the cleaned text is saved to 'cleaned_output.txt'.\")\n"
   ]
  },
  {
   "cell_type": "code",
   "execution_count": null,
   "id": "cf2620a1",
   "metadata": {},
   "outputs": [],
   "source": []
  }
 ],
 "metadata": {
  "kernelspec": {
   "display_name": "Python 3",
   "language": "python",
   "name": "python3"
  },
  "language_info": {
   "codemirror_mode": {
    "name": "ipython",
    "version": 3
   },
   "file_extension": ".py",
   "mimetype": "text/x-python",
   "name": "python",
   "nbconvert_exporter": "python",
   "pygments_lexer": "ipython3",
   "version": "3.11.2"
  }
 },
 "nbformat": 4,
 "nbformat_minor": 5
}
