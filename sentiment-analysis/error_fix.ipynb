{
 "cells": [
  {
   "cell_type": "markdown",
   "id": "3f726539",
   "metadata": {},
   "source": [
    "# Error Identification and Fix Guide\n",
    "\n",
    "This notebook helps identify, analyze, and fix code errors systematically.\n",
    "\n",
    "## Steps to Fix Errors:\n",
    "1. **Identify the Error** - Present the problematic code\n",
    "2. **Display Error Message** - Run code to see the error\n",
    "3. **Analyze the Error** - Examine traceback and error details\n",
    "4. **Apply Fix** - Modify code to correct the issue\n",
    "5. **Verify Fix** - Test the corrected code"
   ]
  },
  {
   "cell_type": "markdown",
   "id": "22f75d01",
   "metadata": {},
   "source": [
    "## 1. Identify the Error\n",
    "\n",
    "Paste your problematic code in the cell below. This is where you'll put the code that's causing issues."
   ]
  },
  {
   "cell_type": "code",
   "execution_count": null,
   "id": "27ff1717",
   "metadata": {},
   "outputs": [],
   "source": [
    "# Paste your problematic code here\n",
    "# Example of common errors:\n",
    "\n",
    "# 1. Import Error Example\n",
    "# import non_existent_module\n",
    "\n",
    "# 2. Syntax Error Example\n",
    "# print(\"Hello World\"  # Missing closing parenthesis\n",
    "\n",
    "# 3. Name Error Example\n",
    "# print(undefined_variable)\n",
    "\n",
    "# 4. Type Error Example\n",
    "# \"Hello\" + 5\n",
    "\n",
    "# Replace the examples above with your actual problematic code"
   ]
  },
  {
   "cell_type": "markdown",
   "id": "fc88da87",
   "metadata": {},
   "source": [
    "## 2. Display the Error Message\n",
    "\n",
    "Run the problematic code to see the full error message and traceback."
   ]
  },
  {
   "cell_type": "markdown",
   "id": "467caa5a",
   "metadata": {},
   "source": [
    "## 3. Analyze the Error Traceback\n",
    "\n",
    "Common error types and their meanings:\n",
    "\n",
    "### Import Errors\n",
    "- **ModuleNotFoundError**: Module not installed or not found\n",
    "- **ImportError**: Issue with importing specific functions/classes\n",
    "\n",
    "### Syntax Errors\n",
    "- **SyntaxError**: Invalid Python syntax\n",
    "- **IndentationError**: Incorrect indentation\n",
    "\n",
    "### Runtime Errors\n",
    "- **NameError**: Variable not defined\n",
    "- **TypeError**: Wrong data type for operation\n",
    "- **ValueError**: Correct type but inappropriate value\n",
    "- **KeyError**: Dictionary key doesn't exist\n",
    "- **IndexError**: List index out of range\n",
    "\n",
    "### Solutions:\n",
    "1. **Read the error message carefully** - It usually tells you exactly what's wrong\n",
    "2. **Check the line number** - Error messages show where the problem occurs\n",
    "3. **Look at the traceback** - Shows the sequence of function calls leading to the error"
   ]
  },
  {
   "cell_type": "markdown",
   "id": "1c1904bd",
   "metadata": {},
   "source": [
    "## 4. Apply a Fix to the Code\n",
    "\n",
    "Based on the error analysis, modify your code here with the appropriate fix:"
   ]
  },
  {
   "cell_type": "code",
   "execution_count": null,
   "id": "0dc55178",
   "metadata": {},
   "outputs": [],
   "source": [
    "# Put your FIXED code here\n",
    "# Example fixes:\n",
    "\n",
    "# 1. Fix Import Error\n",
    "# pip install package_name (run in terminal)\n",
    "# or import correct_module_name\n",
    "\n",
    "# 2. Fix Syntax Error\n",
    "print(\"Hello World\")  # Added missing parenthesis\n",
    "\n",
    "# 3. Fix Name Error\n",
    "defined_variable = \"Hello\"\n",
    "print(defined_variable)\n",
    "\n",
    "# 4. Fix Type Error\n",
    "print(\"Hello\" + str(5))  \n",
    "# Convert number to string\n",
    "\n",
    "# Replace examples with your actual fixed code"
   ]
  },
  {
   "cell_type": "markdown",
   "id": "b1db48ca",
   "metadata": {},
   "source": [
    "## 5. Verify the Fix\n",
    "\n",
    "Run your corrected code to ensure the error is resolved and the code works as expected."
   ]
  },
  {
   "cell_type": "code",
   "execution_count": null,
   "id": "4d494843",
   "metadata": {},
   "outputs": [],
   "source": [
    "# Test your fixed code here\n",
    "# Add any additional testing or validation\n",
    "\n",
    "print(\"✅ Code is working correctly!\")\n"
   ]
  },
  {
   "cell_type": "code",
   "execution_count": null,
   "id": "bb09c520",
   "metadata": {},
   "outputs": [],
   "source": [
    "print(\"Error has been successfully fixed.\")\n"
   ]
  },
  {
   "cell_type": "code",
   "execution_count": 3,
   "id": "5bcc87b3",
   "metadata": {},
   "outputs": [
    {
     "name": "stdout",
     "output_type": "stream",
     "text": [
      "Extra data: line 1840 column 1 (char 1466624)\n"
     ]
    }
   ],
   "source": [
    "import json\n",
    "\n",
    "with open(\"C:\\\\Users\\\\Kartik.Bhatt\\\\OneDrive - Shell\\\\Documents\\\\code playground\\\\sentiment-analysis\\\\test_wc.ipynb\") as pynb:\n",
    "    try:\n",
    "        report = json.load(pynb)\n",
    "    except Exception as e:\n",
    "        print(str(e))"
   ]
  },
  {
   "cell_type": "code",
   "execution_count": null,
   "id": "e792a7c5",
   "metadata": {},
   "outputs": [],
   "source": []
  }
 ],
 "metadata": {
  "kernelspec": {
   "display_name": "Python 3",
   "language": "python",
   "name": "python3"
  },
  "language_info": {
   "codemirror_mode": {
    "name": "ipython",
    "version": 3
   },
   "file_extension": ".py",
   "mimetype": "text/x-python",
   "name": "python",
   "nbconvert_exporter": "python",
   "pygments_lexer": "ipython3",
   "version": "3.11.2"
  }
 },
 "nbformat": 4,
 "nbformat_minor": 5
}
