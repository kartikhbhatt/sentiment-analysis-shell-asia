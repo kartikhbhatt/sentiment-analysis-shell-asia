{
 "cells": [
  {
   "cell_type": "code",
   "execution_count": 16,
   "metadata": {},
   "outputs": [],
   "source": [
    "# pip install google-play-scraper\n",
    "# pip install app-store-scraper"
   ]
  },
  {
   "cell_type": "code",
   "execution_count": 17,
   "metadata": {},
   "outputs": [],
   "source": [
    "# pip install pandas"
   ]
  },
  {
   "cell_type": "code",
   "execution_count": 18,
   "metadata": {},
   "outputs": [],
   "source": [
    "# pip install numpy"
   ]
  },
  {
   "cell_type": "code",
   "execution_count": 19,
   "metadata": {},
   "outputs": [],
   "source": [
    "from google_play_scraper import app, Sort, reviews_all\n",
    "from app_store_scraper import AppStore\n",
    "import pandas as pd\n",
    "import numpy as np\n",
    "import json, os, uuid\n"
   ]
  },
  {
   "cell_type": "code",
   "execution_count": null,
   "metadata": {},
   "outputs": [],
   "source": [
    "finalized_data = pd.DataFrame()"
   ]
  },
  {
   "cell_type": "code",
   "execution_count": null,
   "metadata": {},
   "outputs": [],
   "source": [
    "for star in range(1,6):\n",
    "    google_reviews = reviews_all(\n",
    "        \"com.shell.sitibv.shellgoplusindia\",\n",
    "        sleep_milliseconds=10, \n",
    "        lang='en', \n",
    "        country='us', \n",
    "        sort=Sort.NEWEST, \n",
    "        filter_score_with = star,\n",
    "    )\n",
    "    \n",
    "    data = pd.DataFrame(np.array(google_reviews),columns=['review'])\n",
    "    filter_data = data.join(pd.DataFrame(data.pop('review').tolist()))\n",
    "    \n",
    "    finalized_data= pd.concat([filter_data, finalized_data])\n"
   ]
  },
  {
   "cell_type": "code",
   "execution_count": 22,
   "metadata": {},
   "outputs": [
    {
     "data": {
      "text/plain": [
       "Index(['reviewId', 'userName', 'userImage', 'content', 'score',\n",
       "       'thumbsUpCount', 'reviewCreatedVersion', 'at', 'replyContent',\n",
       "       'repliedAt', 'appVersion'],\n",
       "      dtype='object')"
      ]
     },
     "execution_count": 22,
     "metadata": {},
     "output_type": "execute_result"
    }
   ],
   "source": [
    "finalized_data.columns"
   ]
  },
  {
   "cell_type": "code",
   "execution_count": 23,
   "metadata": {},
   "outputs": [
    {
     "data": {
      "text/plain": [
       "array([5, 4, 3, 2, 1])"
      ]
     },
     "execution_count": 23,
     "metadata": {},
     "output_type": "execute_result"
    }
   ],
   "source": [
    "finalized_data['score'].unique()"
   ]
  },
  {
   "cell_type": "code",
   "execution_count": 24,
   "metadata": {},
   "outputs": [],
   "source": [
    "# remove unwanted columns\n",
    "def remove_col(data):\n",
    "    filter_col = ['userImage','replyContent','repliedAt']\n",
    "    finalized_data.drop(columns=filter_col, inplace=True)"
   ]
  },
  {
   "cell_type": "code",
   "execution_count": 25,
   "metadata": {},
   "outputs": [
    {
     "data": {
      "text/html": [
       "<div>\n",
       "<style scoped>\n",
       "    .dataframe tbody tr th:only-of-type {\n",
       "        vertical-align: middle;\n",
       "    }\n",
       "\n",
       "    .dataframe tbody tr th {\n",
       "        vertical-align: top;\n",
       "    }\n",
       "\n",
       "    .dataframe thead th {\n",
       "        text-align: right;\n",
       "    }\n",
       "</style>\n",
       "<table border=\"1\" class=\"dataframe\">\n",
       "  <thead>\n",
       "    <tr style=\"text-align: right;\">\n",
       "      <th></th>\n",
       "      <th>reviewId</th>\n",
       "      <th>userName</th>\n",
       "      <th>userImage</th>\n",
       "      <th>content</th>\n",
       "      <th>score</th>\n",
       "      <th>thumbsUpCount</th>\n",
       "      <th>reviewCreatedVersion</th>\n",
       "      <th>at</th>\n",
       "      <th>replyContent</th>\n",
       "      <th>repliedAt</th>\n",
       "      <th>appVersion</th>\n",
       "    </tr>\n",
       "  </thead>\n",
       "  <tbody>\n",
       "    <tr>\n",
       "      <th>0</th>\n",
       "      <td>050e18f3-12cd-44f0-906e-0eee596205e7</td>\n",
       "      <td>A Google user</td>\n",
       "      <td>https://play-lh.googleusercontent.com/EGemoI2N...</td>\n",
       "      <td>Nice Appss..</td>\n",
       "      <td>5</td>\n",
       "      <td>0</td>\n",
       "      <td>1.2.5</td>\n",
       "      <td>2025-04-08 08:05:59</td>\n",
       "      <td>None</td>\n",
       "      <td>NaT</td>\n",
       "      <td>1.2.5</td>\n",
       "    </tr>\n",
       "    <tr>\n",
       "      <th>1</th>\n",
       "      <td>b84b7aa1-87d1-4ea3-8936-f6dd493f174f</td>\n",
       "      <td>A Google user</td>\n",
       "      <td>https://play-lh.googleusercontent.com/EGemoI2N...</td>\n",
       "      <td>Great</td>\n",
       "      <td>5</td>\n",
       "      <td>0</td>\n",
       "      <td>1.2.5</td>\n",
       "      <td>2025-04-08 07:58:47</td>\n",
       "      <td>None</td>\n",
       "      <td>NaT</td>\n",
       "      <td>1.2.5</td>\n",
       "    </tr>\n",
       "    <tr>\n",
       "      <th>2</th>\n",
       "      <td>bf758b21-a170-414f-972e-6b17604095e6</td>\n",
       "      <td>A Google user</td>\n",
       "      <td>https://play-lh.googleusercontent.com/EGemoI2N...</td>\n",
       "      <td>excellent experience</td>\n",
       "      <td>5</td>\n",
       "      <td>0</td>\n",
       "      <td>1.2.5</td>\n",
       "      <td>2025-04-06 19:28:30</td>\n",
       "      <td>None</td>\n",
       "      <td>NaT</td>\n",
       "      <td>1.2.5</td>\n",
       "    </tr>\n",
       "    <tr>\n",
       "      <th>3</th>\n",
       "      <td>d80217a0-d5b9-4e64-89e3-cde758a1eb8e</td>\n",
       "      <td>A Google user</td>\n",
       "      <td>https://play-lh.googleusercontent.com/EGemoI2N...</td>\n",
       "      <td>trusted even government itself</td>\n",
       "      <td>5</td>\n",
       "      <td>0</td>\n",
       "      <td>1.2.5</td>\n",
       "      <td>2025-04-06 17:03:14</td>\n",
       "      <td>None</td>\n",
       "      <td>NaT</td>\n",
       "      <td>1.2.5</td>\n",
       "    </tr>\n",
       "    <tr>\n",
       "      <th>4</th>\n",
       "      <td>03db7b00-212a-48e3-b94f-efc8f3c03c8b</td>\n",
       "      <td>A Google user</td>\n",
       "      <td>https://play-lh.googleusercontent.com/EGemoI2N...</td>\n",
       "      <td>Ok</td>\n",
       "      <td>5</td>\n",
       "      <td>0</td>\n",
       "      <td>1.2.5</td>\n",
       "      <td>2025-04-05 19:38:43</td>\n",
       "      <td>None</td>\n",
       "      <td>NaT</td>\n",
       "      <td>1.2.5</td>\n",
       "    </tr>\n",
       "  </tbody>\n",
       "</table>\n",
       "</div>"
      ],
      "text/plain": [
       "                               reviewId       userName  \\\n",
       "0  050e18f3-12cd-44f0-906e-0eee596205e7  A Google user   \n",
       "1  b84b7aa1-87d1-4ea3-8936-f6dd493f174f  A Google user   \n",
       "2  bf758b21-a170-414f-972e-6b17604095e6  A Google user   \n",
       "3  d80217a0-d5b9-4e64-89e3-cde758a1eb8e  A Google user   \n",
       "4  03db7b00-212a-48e3-b94f-efc8f3c03c8b  A Google user   \n",
       "\n",
       "                                           userImage  \\\n",
       "0  https://play-lh.googleusercontent.com/EGemoI2N...   \n",
       "1  https://play-lh.googleusercontent.com/EGemoI2N...   \n",
       "2  https://play-lh.googleusercontent.com/EGemoI2N...   \n",
       "3  https://play-lh.googleusercontent.com/EGemoI2N...   \n",
       "4  https://play-lh.googleusercontent.com/EGemoI2N...   \n",
       "\n",
       "                          content  score  thumbsUpCount reviewCreatedVersion  \\\n",
       "0                    Nice Appss..      5              0                1.2.5   \n",
       "1                           Great      5              0                1.2.5   \n",
       "2            excellent experience      5              0                1.2.5   \n",
       "3  trusted even government itself      5              0                1.2.5   \n",
       "4                              Ok      5              0                1.2.5   \n",
       "\n",
       "                   at replyContent repliedAt appVersion  \n",
       "0 2025-04-08 08:05:59         None       NaT      1.2.5  \n",
       "1 2025-04-08 07:58:47         None       NaT      1.2.5  \n",
       "2 2025-04-06 19:28:30         None       NaT      1.2.5  \n",
       "3 2025-04-06 17:03:14         None       NaT      1.2.5  \n",
       "4 2025-04-05 19:38:43         None       NaT      1.2.5  "
      ]
     },
     "execution_count": 25,
     "metadata": {},
     "output_type": "execute_result"
    }
   ],
   "source": [
    "finalized_data.head()"
   ]
  },
  {
   "cell_type": "code",
   "execution_count": 26,
   "metadata": {},
   "outputs": [
    {
     "data": {
      "text/html": [
       "<div>\n",
       "<style scoped>\n",
       "    .dataframe tbody tr th:only-of-type {\n",
       "        vertical-align: middle;\n",
       "    }\n",
       "\n",
       "    .dataframe tbody tr th {\n",
       "        vertical-align: top;\n",
       "    }\n",
       "\n",
       "    .dataframe thead th {\n",
       "        text-align: right;\n",
       "    }\n",
       "</style>\n",
       "<table border=\"1\" class=\"dataframe\">\n",
       "  <thead>\n",
       "    <tr style=\"text-align: right;\">\n",
       "      <th></th>\n",
       "      <th>reviewId</th>\n",
       "      <th>userName</th>\n",
       "      <th>userImage</th>\n",
       "      <th>content</th>\n",
       "      <th>score</th>\n",
       "      <th>thumbsUpCount</th>\n",
       "      <th>reviewCreatedVersion</th>\n",
       "      <th>at</th>\n",
       "      <th>replyContent</th>\n",
       "      <th>repliedAt</th>\n",
       "      <th>appVersion</th>\n",
       "    </tr>\n",
       "  </thead>\n",
       "  <tbody>\n",
       "    <tr>\n",
       "      <th>0</th>\n",
       "      <td>050e18f3-12cd-44f0-906e-0eee596205e7</td>\n",
       "      <td>A Google user</td>\n",
       "      <td>https://play-lh.googleusercontent.com/EGemoI2N...</td>\n",
       "      <td>Nice Appss..</td>\n",
       "      <td>5</td>\n",
       "      <td>0</td>\n",
       "      <td>1.2.5</td>\n",
       "      <td>2025-04-08 08:05:59</td>\n",
       "      <td>None</td>\n",
       "      <td>NaT</td>\n",
       "      <td>1.2.5</td>\n",
       "    </tr>\n",
       "    <tr>\n",
       "      <th>1</th>\n",
       "      <td>b84b7aa1-87d1-4ea3-8936-f6dd493f174f</td>\n",
       "      <td>A Google user</td>\n",
       "      <td>https://play-lh.googleusercontent.com/EGemoI2N...</td>\n",
       "      <td>Great</td>\n",
       "      <td>5</td>\n",
       "      <td>0</td>\n",
       "      <td>1.2.5</td>\n",
       "      <td>2025-04-08 07:58:47</td>\n",
       "      <td>None</td>\n",
       "      <td>NaT</td>\n",
       "      <td>1.2.5</td>\n",
       "    </tr>\n",
       "    <tr>\n",
       "      <th>2</th>\n",
       "      <td>bf758b21-a170-414f-972e-6b17604095e6</td>\n",
       "      <td>A Google user</td>\n",
       "      <td>https://play-lh.googleusercontent.com/EGemoI2N...</td>\n",
       "      <td>excellent experience</td>\n",
       "      <td>5</td>\n",
       "      <td>0</td>\n",
       "      <td>1.2.5</td>\n",
       "      <td>2025-04-06 19:28:30</td>\n",
       "      <td>None</td>\n",
       "      <td>NaT</td>\n",
       "      <td>1.2.5</td>\n",
       "    </tr>\n",
       "    <tr>\n",
       "      <th>3</th>\n",
       "      <td>d80217a0-d5b9-4e64-89e3-cde758a1eb8e</td>\n",
       "      <td>A Google user</td>\n",
       "      <td>https://play-lh.googleusercontent.com/EGemoI2N...</td>\n",
       "      <td>trusted even government itself</td>\n",
       "      <td>5</td>\n",
       "      <td>0</td>\n",
       "      <td>1.2.5</td>\n",
       "      <td>2025-04-06 17:03:14</td>\n",
       "      <td>None</td>\n",
       "      <td>NaT</td>\n",
       "      <td>1.2.5</td>\n",
       "    </tr>\n",
       "    <tr>\n",
       "      <th>4</th>\n",
       "      <td>03db7b00-212a-48e3-b94f-efc8f3c03c8b</td>\n",
       "      <td>A Google user</td>\n",
       "      <td>https://play-lh.googleusercontent.com/EGemoI2N...</td>\n",
       "      <td>Ok</td>\n",
       "      <td>5</td>\n",
       "      <td>0</td>\n",
       "      <td>1.2.5</td>\n",
       "      <td>2025-04-05 19:38:43</td>\n",
       "      <td>None</td>\n",
       "      <td>NaT</td>\n",
       "      <td>1.2.5</td>\n",
       "    </tr>\n",
       "  </tbody>\n",
       "</table>\n",
       "</div>"
      ],
      "text/plain": [
       "                               reviewId       userName  \\\n",
       "0  050e18f3-12cd-44f0-906e-0eee596205e7  A Google user   \n",
       "1  b84b7aa1-87d1-4ea3-8936-f6dd493f174f  A Google user   \n",
       "2  bf758b21-a170-414f-972e-6b17604095e6  A Google user   \n",
       "3  d80217a0-d5b9-4e64-89e3-cde758a1eb8e  A Google user   \n",
       "4  03db7b00-212a-48e3-b94f-efc8f3c03c8b  A Google user   \n",
       "\n",
       "                                           userImage  \\\n",
       "0  https://play-lh.googleusercontent.com/EGemoI2N...   \n",
       "1  https://play-lh.googleusercontent.com/EGemoI2N...   \n",
       "2  https://play-lh.googleusercontent.com/EGemoI2N...   \n",
       "3  https://play-lh.googleusercontent.com/EGemoI2N...   \n",
       "4  https://play-lh.googleusercontent.com/EGemoI2N...   \n",
       "\n",
       "                          content  score  thumbsUpCount reviewCreatedVersion  \\\n",
       "0                    Nice Appss..      5              0                1.2.5   \n",
       "1                           Great      5              0                1.2.5   \n",
       "2            excellent experience      5              0                1.2.5   \n",
       "3  trusted even government itself      5              0                1.2.5   \n",
       "4                              Ok      5              0                1.2.5   \n",
       "\n",
       "                   at replyContent repliedAt appVersion  \n",
       "0 2025-04-08 08:05:59         None       NaT      1.2.5  \n",
       "1 2025-04-08 07:58:47         None       NaT      1.2.5  \n",
       "2 2025-04-06 19:28:30         None       NaT      1.2.5  \n",
       "3 2025-04-06 17:03:14         None       NaT      1.2.5  \n",
       "4 2025-04-05 19:38:43         None       NaT      1.2.5  "
      ]
     },
     "execution_count": 26,
     "metadata": {},
     "output_type": "execute_result"
    }
   ],
   "source": [
    "finalized_data.head()"
   ]
  },
  {
   "cell_type": "code",
   "execution_count": 27,
   "metadata": {},
   "outputs": [
    {
     "data": {
      "text/plain": [
       "(5959, 11)"
      ]
     },
     "execution_count": 27,
     "metadata": {},
     "output_type": "execute_result"
    }
   ],
   "source": [
    "finalized_data.shape"
   ]
  },
  {
   "cell_type": "code",
   "execution_count": 28,
   "metadata": {},
   "outputs": [
    {
     "data": {
      "text/plain": [
       "5959"
      ]
     },
     "execution_count": 28,
     "metadata": {},
     "output_type": "execute_result"
    }
   ],
   "source": [
    "finalized_data.reviewId.nunique()"
   ]
  },
  {
   "cell_type": "code",
   "execution_count": 29,
   "metadata": {},
   "outputs": [],
   "source": [
    "finalized_data.drop_duplicates(subset=['reviewId'], inplace=True)\n",
    "finalized_data.drop([\"userImage\", \"reviewId\"], inplace=True, axis=1)"
   ]
  },
  {
   "cell_type": "code",
   "execution_count": 30,
   "metadata": {},
   "outputs": [],
   "source": [
    "finalized_data.to_csv('shell_asia_reviews_newest.csv', index=False)"
   ]
  },
  {
   "cell_type": "code",
   "execution_count": null,
   "metadata": {},
   "outputs": [],
   "source": []
  }
 ],
 "metadata": {
  "kernelspec": {
   "display_name": "Python 3",
   "language": "python",
   "name": "python3"
  },
  "language_info": {
   "codemirror_mode": {
    "name": "ipython",
    "version": 3
   },
   "file_extension": ".py",
   "mimetype": "text/x-python",
   "name": "python",
   "nbconvert_exporter": "python",
   "pygments_lexer": "ipython3",
   "version": "3.11.2"
  }
 },
 "nbformat": 4,
 "nbformat_minor": 2
}
